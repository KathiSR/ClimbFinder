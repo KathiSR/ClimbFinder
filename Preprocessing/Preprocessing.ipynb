{
 "cells": [
  {
   "cell_type": "code",
   "execution_count": 1,
   "metadata": {
    "collapsed": true
   },
   "outputs": [],
   "source": [
    "import pandas\n",
    "import re\n",
    "import numpy as np"
   ]
  },
  {
   "cell_type": "code",
   "execution_count": 2,
   "metadata": {
    "collapsed": false
   },
   "outputs": [
    {
     "data": {
      "text/plain": [
       "110974"
      ]
     },
     "execution_count": 2,
     "metadata": {},
     "output_type": "execute_result"
    }
   ],
   "source": [
    "data = pandas.read_csv(\"climbs2.csv\")\n",
    "len(data.index)"
   ]
  },
  {
   "cell_type": "code",
   "execution_count": 271,
   "metadata": {
    "collapsed": true
   },
   "outputs": [],
   "source": [
    "#### clean up data ####"
   ]
  },
  {
   "cell_type": "code",
   "execution_count": 3,
   "metadata": {
    "collapsed": true
   },
   "outputs": [],
   "source": [
    "data.name = data.name.map(lambda x: x.lower())\n",
    "data.area = data.area.map(lambda x: x.lower())\n",
    "data.region = data.region.map(lambda x: x.lower())\n",
    "data.crag = data.crag.map(lambda x: x.lower())"
   ]
  },
  {
   "cell_type": "code",
   "execution_count": 4,
   "metadata": {
    "collapsed": true
   },
   "outputs": [],
   "source": [
    "# remove all climbs with \"unknown\" name (there are 365 of them)\n",
    "data = data[data.name != \"unknown\"]"
   ]
  },
  {
   "cell_type": "code",
   "execution_count": 5,
   "metadata": {
    "collapsed": false
   },
   "outputs": [
    {
     "data": {
      "text/plain": [
       "98319"
      ]
     },
     "execution_count": 5,
     "metadata": {},
     "output_type": "execute_result"
    }
   ],
   "source": [
    "# remove international climbs \n",
    "data = data[data.region != \"international\"]\n",
    "len(data.index)"
   ]
  },
  {
   "cell_type": "code",
   "execution_count": 6,
   "metadata": {
    "collapsed": true
   },
   "outputs": [],
   "source": [
    "#clean up urls \n",
    "def url_cleanup(url):\n",
    "    match = re.search('/v/.+/\\d+', url)\n",
    "    if match:\n",
    "        new_url = 'http://mountainproject.com' + match.group()\n",
    "    return new_url"
   ]
  },
  {
   "cell_type": "code",
   "execution_count": 7,
   "metadata": {
    "collapsed": true
   },
   "outputs": [],
   "source": [
    "data.url = data.url.apply(url_cleanup)"
   ]
  },
  {
   "cell_type": "code",
   "execution_count": 8,
   "metadata": {
    "collapsed": false
   },
   "outputs": [
    {
     "data": {
      "text/plain": [
       "63305"
      ]
     },
     "execution_count": 8,
     "metadata": {},
     "output_type": "execute_result"
    }
   ],
   "source": [
    "len(set(data.url)) #turns out there are only 63305 unique urls! - remove the duplicates"
   ]
  },
  {
   "cell_type": "code",
   "execution_count": 9,
   "metadata": {
    "collapsed": false
   },
   "outputs": [
    {
     "data": {
      "text/plain": [
       "63305"
      ]
     },
     "execution_count": 9,
     "metadata": {},
     "output_type": "execute_result"
    }
   ],
   "source": [
    "#drop duplicate values\n",
    "data = data.drop_duplicates('url')\n",
    "len(data.index)"
   ]
  },
  {
   "cell_type": "code",
   "execution_count": 10,
   "metadata": {
    "collapsed": true
   },
   "outputs": [],
   "source": [
    "# remove rows with incorrect urls (because they lead to duplicates)\n",
    "def remove_invalid_urls(url):\n",
    "    match = re.search('/v/[^/]+/\\d+', url)\n",
    "    if match:\n",
    "        goodrow = 1\n",
    "    else:\n",
    "        goodrow = np.NaN\n",
    "    \n",
    "    return goodrow"
   ]
  },
  {
   "cell_type": "code",
   "execution_count": 11,
   "metadata": {
    "collapsed": true
   },
   "outputs": [],
   "source": [
    "keep = data.url.apply(remove_invalid_urls)"
   ]
  },
  {
   "cell_type": "code",
   "execution_count": 12,
   "metadata": {
    "collapsed": true
   },
   "outputs": [],
   "source": [
    "data = data.ix[keep == 1, :]"
   ]
  },
  {
   "cell_type": "code",
   "execution_count": 13,
   "metadata": {
    "collapsed": false
   },
   "outputs": [
    {
     "data": {
      "text/plain": [
       "62969"
      ]
     },
     "execution_count": 13,
     "metadata": {},
     "output_type": "execute_result"
    }
   ],
   "source": [
    "len(data.index)"
   ]
  },
  {
   "cell_type": "code",
   "execution_count": 14,
   "metadata": {
    "collapsed": true
   },
   "outputs": [],
   "source": [
    "# if there are still climbs with same name and area, get rid of them"
   ]
  },
  {
   "cell_type": "code",
   "execution_count": 15,
   "metadata": {
    "collapsed": true
   },
   "outputs": [],
   "source": [
    "data = data.drop_duplicates(['name', 'area'])"
   ]
  },
  {
   "cell_type": "code",
   "execution_count": 16,
   "metadata": {
    "collapsed": false
   },
   "outputs": [
    {
     "data": {
      "text/plain": [
       "name                0\n",
       "area                0\n",
       "climb_info          0\n",
       "crag                0\n",
       "region              0\n",
       "description         0\n",
       "number_of_votes     0\n",
       "grade               0\n",
       "protection         12\n",
       "url                 0\n",
       "areaurl             0\n",
       "average_rating      0\n",
       "location            0\n",
       "dtype: int64"
      ]
     },
     "execution_count": 16,
     "metadata": {},
     "output_type": "execute_result"
    }
   ],
   "source": [
    "len(data.index) #keeping 62923 climbs in database\n",
    "data.isnull().sum()"
   ]
  },
  {
   "cell_type": "code",
   "execution_count": 17,
   "metadata": {
    "collapsed": true
   },
   "outputs": [],
   "source": [
    "# clean up area url\n",
    "def clean_area(area):\n",
    "    match = re.search('\\w\\.', area)\n",
    "    if match:\n",
    "        area = area.replace(match.group(), '')\n",
    "        area = area.lstrip()\n",
    "    else: \n",
    "        area = area\n",
    "    \n",
    "    return area"
   ]
  },
  {
   "cell_type": "code",
   "execution_count": 18,
   "metadata": {
    "collapsed": false
   },
   "outputs": [],
   "source": [
    "data[\"area\"] = data.area.apply(clean_area)"
   ]
  },
  {
   "cell_type": "code",
   "execution_count": 288,
   "metadata": {
    "collapsed": true
   },
   "outputs": [],
   "source": [
    "### feature engineering ###"
   ]
  },
  {
   "cell_type": "code",
   "execution_count": 19,
   "metadata": {
    "collapsed": true
   },
   "outputs": [],
   "source": [
    "# Parse the climbinfo column\n",
    "def parse_column(rows):\n",
    "    list_temp=[]\n",
    "    for row in rows:\n",
    "        if not pandas.isnull(row):\n",
    "            list_temp.append(row.split(','))\n",
    "        else: \n",
    "            list_temp.append('NaN')\n",
    "            \n",
    "    return list_temp\n",
    "\n",
    "list_temp = parse_column(data[\"climb_info\"])"
   ]
  },
  {
   "cell_type": "code",
   "execution_count": 20,
   "metadata": {
    "collapsed": true
   },
   "outputs": [],
   "source": [
    "# create a temporary df for storing the climb info\n",
    "index = range(len(data.index))\n",
    "columns = ['type', 'toprope','sport', 'trad', 'alpine', 'ice', 'aid', 'bouldering', 'pitches', 'length']\n",
    "\n",
    "df = pandas.DataFrame(index=index, columns=columns) #data frame consisting for NaN"
   ]
  },
  {
   "cell_type": "code",
   "execution_count": 21,
   "metadata": {
    "collapsed": true
   },
   "outputs": [],
   "source": [
    "# fill the data frame with the information parsed from the original climb info column (rewrite this to make it shorter)\n",
    "count = 0\n",
    "for row in list_temp:\n",
    "    \n",
    "    df.ix[count, 'type'] = list_temp[count][0] #extract first entry as main type    \n",
    "    \n",
    "    for item in row:\n",
    "        \n",
    "        # determine number of pitches\n",
    "        match = re.search('.(\\d*) pitch', item)\n",
    "        if match:\n",
    "            df.ix[count, \"pitches\"] = int(match.group(1))\n",
    "        \n",
    "        # determine type of climb\n",
    "        if pandas.isnull(df.ix[count,\"toprope\"]):\n",
    "            if re.match('TR', item):\n",
    "                df.ix[count, \"toprope\"] = 1\n",
    "            else: \n",
    "                df.ix[count, \"toprope\"] = 0\n",
    "                \n",
    "        if pandas.isnull(df.ix[count,\"sport\"]):\n",
    "            if re.match('Sport', item):\n",
    "                df.ix[count, \"sport\"] = 1\n",
    "            else: \n",
    "                df.ix[count, \"sport\"] = 0\n",
    "        \n",
    "        if pandas.isnull(df.ix[count,\"alpine\"]):\n",
    "            if re.match('Alpine', item):\n",
    "                df.ix[count, \"alpine\"] = 1\n",
    "            else: \n",
    "                df.ix[count, \"alpine\"] = 0\n",
    "       \n",
    "        if pandas.isnull(df.ix[count,\"trad\"]):\n",
    "            if re.match('Trad',item):\n",
    "                df.ix[count, \"trad\"] = 1\n",
    "            else: \n",
    "                df.ix[count, \"trad\"] = 0\n",
    "        \n",
    "        if pandas.isnull(df.ix[count,\"ice\"]):\n",
    "            if re.match('Ice',item):\n",
    "                df.ix[count, \"ice\"] = 1\n",
    "            else: \n",
    "                df.ix[count, \"ice\"] = 0\n",
    "    \n",
    "        if pandas.isnull(df.ix[count,\"aid\"]):\n",
    "            if re.match('Aid',item):\n",
    "                df.ix[count, \"aid\"] = 1\n",
    "            else: \n",
    "                df.ix[count, \"aid\"] = 0\n",
    "        \n",
    "        if pandas.isnull(df.ix[count,\"bouldering\"]):\n",
    "            if re.match('Boulder',item):\n",
    "                df.ix[count, \"bouldering\"] = 1\n",
    "            else: \n",
    "                df.ix[count, \"bouldering\"] = 0\n",
    "    \n",
    "             \n",
    "        # determine length (')\n",
    "        match = re.search(\".(\\d*)'\", item)\n",
    "        if match:\n",
    "            df.ix[count, \"length\"] = match.group(1)\n",
    "    \n",
    "    count = count + 1"
   ]
  },
  {
   "cell_type": "code",
   "execution_count": 295,
   "metadata": {
    "collapsed": false
   },
   "outputs": [
    {
     "data": {
      "text/plain": [
       "name                   0\n",
       "area                   0\n",
       "climb_info             0\n",
       "crag                   0\n",
       "region                 0\n",
       "description            0\n",
       "number_of_votes        0\n",
       "grade                  0\n",
       "protection            12\n",
       "url                    0\n",
       "areaurl                0\n",
       "average_rating         0\n",
       "location               0\n",
       "type                   0\n",
       "toprope                0\n",
       "sport                  0\n",
       "trad                   0\n",
       "alpine                 0\n",
       "ice                    0\n",
       "aid                    0\n",
       "bouldering             0\n",
       "pitches            25464\n",
       "length             10900\n",
       "dtype: int64"
      ]
     },
     "execution_count": 295,
     "metadata": {},
     "output_type": "execute_result"
    }
   ],
   "source": [
    "df.index = data.index #give df the right index, then join df and data\n",
    "data = pandas.concat([data, df], axis=1, join='inner')\n",
    "data.isnull().sum()"
   ]
  },
  {
   "cell_type": "code",
   "execution_count": 294,
   "metadata": {
    "collapsed": false
   },
   "outputs": [
    {
     "data": {
      "text/plain": [
       "type              0\n",
       "toprope           0\n",
       "sport             0\n",
       "trad              0\n",
       "alpine            0\n",
       "ice               0\n",
       "aid               0\n",
       "bouldering        0\n",
       "pitches       25464\n",
       "length        10900\n",
       "dtype: int64"
      ]
     },
     "execution_count": 294,
     "metadata": {},
     "output_type": "execute_result"
    }
   ],
   "source": [
    "df.isnull().sum()"
   ]
  },
  {
   "cell_type": "code",
   "execution_count": 226,
   "metadata": {
    "collapsed": true
   },
   "outputs": [],
   "source": [
    "### climbing grades"
   ]
  },
  {
   "cell_type": "code",
   "execution_count": 296,
   "metadata": {
    "collapsed": false
   },
   "outputs": [],
   "source": [
    "def grade_scaling(grades):\n",
    "    if not pandas.isnull(grades):\n",
    "        if re.search(re.compile('|'.join(['5.15', '5.14', '5.13','V16','V15','V14','V13','C5','A5', \n",
    "                                         'A6', 'M14', 'M13'])), grades): grade_num = 5\n",
    "        \n",
    "        elif re.search(re.compile('|'.join(['5.12', '5.11', '5.10','V12','V11','V10','C4','A4', \n",
    "                                           'M12', 'M11', 'M10'])), grades): grade_num = 4\n",
    "        \n",
    "        elif re.search(re.compile('|'.join(['5.9', '5.8', '5.7', 'V9','V8','V7','C3','A3', \n",
    "                                           'M9', 'M8', 'M7'])), grades): grade_num = 3\n",
    "        \n",
    "        elif re.search(re.compile('|'.join(['5.6', '5.5', '5.4', 'V6','V5','V4','C2','A2', \n",
    "                                           'M6', 'M5', 'M4'])), grades): grade_num = 2\n",
    "        \n",
    "        elif re.search(re.compile('|'.join(['5.3', '5.2', '5.1','5.0', 'V3','V2','V1','V0','C1','A1', \n",
    "                                           'M3', 'M2', 'M1'])), grades): grade_num = 1\n",
    "       \n",
    "        else: grade_num = 0\n",
    "    else: grade_num = 0\n",
    "    return grade_num"
   ]
  },
  {
   "cell_type": "code",
   "execution_count": 297,
   "metadata": {
    "collapsed": false
   },
   "outputs": [],
   "source": [
    "data[\"grade_num\"] = data.grade.apply(grade_scaling)"
   ]
  },
  {
   "cell_type": "code",
   "execution_count": 298,
   "metadata": {
    "collapsed": false
   },
   "outputs": [
    {
     "name": "stderr",
     "output_type": "stream",
     "text": [
      "/Library/Frameworks/Python.framework/Versions/2.7/lib/python2.7/site-packages/IPython/kernel/__main__.py:3: SettingWithCopyWarning: \n",
      "A value is trying to be set on a copy of a slice from a DataFrame\n",
      "\n",
      "See the the caveats in the documentation: http://pandas.pydata.org/pandas-docs/stable/indexing.html#indexing-view-versus-copy\n",
      "  app.launch_new_instance()\n",
      "/Library/Frameworks/Python.framework/Versions/2.7/lib/python2.7/site-packages/IPython/kernel/__main__.py:4: SettingWithCopyWarning: \n",
      "A value is trying to be set on a copy of a slice from a DataFrame\n",
      "\n",
      "See the the caveats in the documentation: http://pandas.pydata.org/pandas-docs/stable/indexing.html#indexing-view-versus-copy\n"
     ]
    }
   ],
   "source": [
    "### pitches\n",
    "# for bouldering, assume pitches = 0\n",
    "data.pitches[data.type == 'Boulder'] = 0\n",
    "data.pitches[data.pitches.isnull()] = 1"
   ]
  },
  {
   "cell_type": "code",
   "execution_count": 299,
   "metadata": {
    "collapsed": false
   },
   "outputs": [
    {
     "data": {
      "text/plain": [
       "name                   0\n",
       "area                   0\n",
       "climb_info             0\n",
       "crag                   0\n",
       "region                 0\n",
       "description            0\n",
       "number_of_votes        0\n",
       "grade                  0\n",
       "protection            12\n",
       "url                    0\n",
       "areaurl                0\n",
       "average_rating         0\n",
       "location               0\n",
       "type                   0\n",
       "toprope                0\n",
       "sport                  0\n",
       "trad                   0\n",
       "alpine                 0\n",
       "ice                    0\n",
       "aid                    0\n",
       "bouldering             0\n",
       "pitches                0\n",
       "length             10900\n",
       "grade_num              0\n",
       "dtype: int64"
      ]
     },
     "execution_count": 299,
     "metadata": {},
     "output_type": "execute_result"
    }
   ],
   "source": [
    "data.isnull().sum()"
   ]
  },
  {
   "cell_type": "code",
   "execution_count": 300,
   "metadata": {
    "collapsed": false
   },
   "outputs": [],
   "source": [
    "### extract keywords"
   ]
  },
  {
   "cell_type": "code",
   "execution_count": 301,
   "metadata": {
    "collapsed": true
   },
   "outputs": [],
   "source": [
    "## doesn't work perfectly yet ... \n",
    "def cut_trailingcommas(text):\n",
    "    if not pandas.isnull(text):\n",
    "        text = text.split()\n",
    "        output = text\n",
    "    \n",
    "        for element in reversed(text):\n",
    "            if element == ',':\n",
    "                output.pop()\n",
    "    \n",
    "        return \" \".join(output)\n",
    "\n",
    "    else:\n",
    "        return text"
   ]
  },
  {
   "cell_type": "code",
   "execution_count": 302,
   "metadata": {
    "collapsed": true
   },
   "outputs": [],
   "source": [
    "def remove_overlap(text1, text2):\n",
    "    match = []\n",
    "    if not pandas.isnull(text1) and not pandas.isnull(text2):\n",
    "        try:\n",
    "            match = re.search(text2,text1)\n",
    "        except:\n",
    "            pass\n",
    "        \n",
    "        if match:\n",
    "            try:\n",
    "                text1 = text1.replace(text2, '')\n",
    "            except:\n",
    "                pass\n",
    "    \n",
    "    return text1"
   ]
  },
  {
   "cell_type": "code",
   "execution_count": 303,
   "metadata": {
    "collapsed": true
   },
   "outputs": [],
   "source": [
    "### clean up the commas in the protection, description, and location columns\n",
    "data.description = data.description.apply(cut_trailingcommas)\n",
    "data.location = data.location.apply(cut_trailingcommas)\n",
    "data.protection = data.protection.apply(cut_trailingcommas)"
   ]
  },
  {
   "cell_type": "code",
   "execution_count": 304,
   "metadata": {
    "collapsed": true
   },
   "outputs": [],
   "source": [
    "data['description'] = data.apply(lambda x: remove_overlap(x['description'], x['protection']), axis = 1)\n",
    "data['description'] = data.apply(lambda x: remove_overlap(x['description'], x['location']), axis = 1)\n",
    "data['location']    = data.apply(lambda x: remove_overlap(x['location'], x['protection']), axis = 1)"
   ]
  },
  {
   "cell_type": "code",
   "execution_count": 235,
   "metadata": {
    "collapsed": false
   },
   "outputs": [],
   "source": [
    "def description_keywords(input_string):\n",
    "    \n",
    "    # a list of most frequent \"relevant\" keywords\n",
    "    # travers = traverse, stem = stemming, traver = traversing, traverse\n",
    "    keywords = ['anchor', 'arete', 'awkward', 'block', 'bolt', 'boulder', 'bulge', 'broken', 'canyon',\n",
    "                'buttress', 'chains', 'chimney', 'classic', 'clean', 'corner', 'crack', 'crimp', 'crux', \n",
    "                'difficult','dihedral', 'expos', 'face', 'finger', 'flake', 'gully', 'hand', 'jug', 'ledge', 'lip', \n",
    "                'jam','notch', 'moderate', 'ridge', 'vertical', 'horizontal','mantle', 'offwidth',\n",
    "                'overhang', 'pillar', 'pocket', 'protect', 'ramp','rap', 'roof', 'scramble', 'seam', 'slab',\n",
    "                'slop', 'solid', 'stance', 'steep', 'stemming', 'sustained',\n",
    "                'technical', 'tower', 'travers', 'undercling']\n",
    "\n",
    "    # create a pattern for matching to descriptions\n",
    "    if not pandas.isnull(input_string) and isinstance(input_string, str):\n",
    "        pattern = re.compile('|'.join(keywords))\n",
    "        matches_temp = pattern.findall(input_string)\n",
    "        matches = set(matches_temp)\n",
    "    else: matches = np.nan\n",
    "    return matches"
   ]
  },
  {
   "cell_type": "code",
   "execution_count": 305,
   "metadata": {
    "collapsed": false
   },
   "outputs": [],
   "source": [
    "new_col = data.description.apply(description_keywords)"
   ]
  },
  {
   "cell_type": "code",
   "execution_count": 308,
   "metadata": {
    "collapsed": false
   },
   "outputs": [],
   "source": [
    "#create a dataframe that contains all the keywords\n",
    "#def assign_features(input_list): \n",
    "    \n",
    "index = range(len(data.index))\n",
    "columns = ['anchor', 'arete', 'awkward', 'block', 'bolt', 'boulder', 'bulge', 'broken', 'canyon',\n",
    "           'buttress', 'chains', 'chimney', 'classic', 'clean', 'corner', 'crack', 'crimp', 'crux', \n",
    "           'difficult','dihedral', 'expos', 'face', 'finger', 'flake', 'gully', 'hand', 'jug', 'ledge', 'lip', \n",
    "           'jam','notch', 'moderate', 'ridge', 'vertical', 'horizontal','mantle', 'offwidth',\n",
    "           'overhang', 'pillar', 'pocket', 'protect', 'ramp','rap', 'roof', 'scramble', 'seam', 'slab',\n",
    "           'slop', 'solid', 'stance', 'steep', 'stemming', 'sustained',\n",
    "           'technical', 'tower', 'travers', 'undercling']\n",
    "df = []\n",
    "df = pandas.DataFrame(0, index=index, columns=columns) #data frame consisting for NaN\n",
    "\n",
    "count = 0\n",
    "for row in new_col:\n",
    "    if not pandas.isnull(row):\n",
    "        for item in row :\n",
    "            df.ix[count, item] = 1\n",
    "            \n",
    "    count = count + 1"
   ]
  },
  {
   "cell_type": "code",
   "execution_count": 310,
   "metadata": {
    "collapsed": false
   },
   "outputs": [],
   "source": [
    "df.rename(columns={'travers': 'traverse', 'crimp': 'crimps', 'expos': 'exposure',\n",
    "                        'rap': 'rappel', 'slop': 'sloper'}, inplace=True)"
   ]
  },
  {
   "cell_type": "code",
   "execution_count": 311,
   "metadata": {
    "collapsed": false
   },
   "outputs": [
    {
     "data": {
      "text/plain": [
       "anchor        0\n",
       "arete         0\n",
       "awkward       0\n",
       "block         0\n",
       "bolt          0\n",
       "boulder       0\n",
       "bulge         0\n",
       "broken        0\n",
       "canyon        0\n",
       "buttress      0\n",
       "chains        0\n",
       "chimney       0\n",
       "classic       0\n",
       "clean         0\n",
       "corner        0\n",
       "crack         0\n",
       "crimps        0\n",
       "crux          0\n",
       "difficult     0\n",
       "dihedral      0\n",
       "exposure      0\n",
       "face          0\n",
       "finger        0\n",
       "flake         0\n",
       "gully         0\n",
       "hand          0\n",
       "jug           0\n",
       "ledge         0\n",
       "lip           0\n",
       "jam           0\n",
       "notch         0\n",
       "moderate      0\n",
       "ridge         0\n",
       "vertical      0\n",
       "horizontal    0\n",
       "mantle        0\n",
       "offwidth      0\n",
       "overhang      0\n",
       "pillar        0\n",
       "pocket        0\n",
       "protect       0\n",
       "ramp          0\n",
       "rappel        0\n",
       "roof          0\n",
       "scramble      0\n",
       "seam          0\n",
       "slab          0\n",
       "sloper        0\n",
       "solid         0\n",
       "stance        0\n",
       "steep         0\n",
       "stemming      0\n",
       "sustained     0\n",
       "technical     0\n",
       "tower         0\n",
       "traverse      0\n",
       "undercling    0\n",
       "dtype: int64"
      ]
     },
     "execution_count": 311,
     "metadata": {},
     "output_type": "execute_result"
    }
   ],
   "source": [
    "df.isnull().sum()"
   ]
  },
  {
   "cell_type": "code",
   "execution_count": 312,
   "metadata": {
    "collapsed": false
   },
   "outputs": [],
   "source": [
    "df.index = data.index"
   ]
  },
  {
   "cell_type": "code",
   "execution_count": 313,
   "metadata": {
    "collapsed": false
   },
   "outputs": [
    {
     "data": {
      "text/plain": [
       "Index([u'name', u'area', u'climb_info', u'crag', u'region', u'description',\n",
       "       u'number_of_votes', u'grade', u'protection', u'url', u'areaurl',\n",
       "       u'average_rating', u'location', u'type', u'toprope', u'sport', u'trad',\n",
       "       u'alpine', u'ice', u'aid', u'bouldering', u'pitches', u'length',\n",
       "       u'grade_num', u'anchor', u'arete', u'awkward', u'block', u'bolt',\n",
       "       u'boulder', u'bulge', u'broken', u'canyon', u'buttress', u'chains',\n",
       "       u'chimney', u'classic', u'clean', u'corner', u'crack', u'crimps',\n",
       "       u'crux', u'difficult', u'dihedral', u'exposure', u'face', u'finger',\n",
       "       u'flake', u'gully', u'hand', u'jug', u'ledge', u'lip', u'jam', u'notch',\n",
       "       u'moderate', u'ridge', u'vertical', u'horizontal', u'mantle',\n",
       "       u'offwidth', u'overhang', u'pillar', u'pocket', u'protect', u'ramp',\n",
       "       u'rappel', u'roof', u'scramble', u'seam', u'slab', u'sloper', u'solid',\n",
       "       u'stance', u'steep', u'stemming', u'sustained', u'technical', u'tower',\n",
       "       u'traverse', u'undercling'],\n",
       "      dtype='object')"
      ]
     },
     "execution_count": 313,
     "metadata": {},
     "output_type": "execute_result"
    }
   ],
   "source": [
    "data = pandas.concat([data, df], axis=1, join='inner')\n",
    "data.head()\n",
    "data.keys()"
   ]
  },
  {
   "cell_type": "code",
   "execution_count": 323,
   "metadata": {
    "collapsed": false
   },
   "outputs": [],
   "source": [
    "#data = data.reset_index()\n",
    "data.head()"
   ]
  },
  {
   "cell_type": "code",
   "execution_count": 325,
   "metadata": {
    "collapsed": true
   },
   "outputs": [],
   "source": [
    "data.to_csv('cleaned_data.csv')"
   ]
  },
  {
   "cell_type": "code",
   "execution_count": 324,
   "metadata": {
    "collapsed": false
   },
   "outputs": [
    {
     "data": {
      "text/html": [
       "<div style=\"max-height:1000px;max-width:1500px;overflow:auto;\">\n",
       "<table border=\"1\" class=\"dataframe\">\n",
       "  <thead>\n",
       "    <tr style=\"text-align: right;\">\n",
       "      <th></th>\n",
       "      <th>name</th>\n",
       "      <th>area</th>\n",
       "      <th>climb_info</th>\n",
       "      <th>crag</th>\n",
       "      <th>region</th>\n",
       "      <th>description</th>\n",
       "      <th>number_of_votes</th>\n",
       "      <th>grade</th>\n",
       "      <th>protection</th>\n",
       "      <th>url</th>\n",
       "      <th>...</th>\n",
       "      <th>sloper</th>\n",
       "      <th>solid</th>\n",
       "      <th>stance</th>\n",
       "      <th>steep</th>\n",
       "      <th>stemming</th>\n",
       "      <th>sustained</th>\n",
       "      <th>technical</th>\n",
       "      <th>tower</th>\n",
       "      <th>traverse</th>\n",
       "      <th>undercling</th>\n",
       "    </tr>\n",
       "  </thead>\n",
       "  <tbody>\n",
       "    <tr>\n",
       "      <th>0</th>\n",
       "      <td>mf</td>\n",
       "      <td>the mac wall (something interesting)</td>\n",
       "      <td>Trad, 2 pitches, 180'</td>\n",
       "      <td>the gunks</td>\n",
       "      <td>new york</td>\n",
       "      <td>This is THE standard for 5.9 routes at the Gun...</td>\n",
       "      <td>178</td>\n",
       "      <td>5.9</td>\n",
       "      <td>Gear to 3\".</td>\n",
       "      <td>http://mountainproject.com/v/mf/105799143</td>\n",
       "      <td>...</td>\n",
       "      <td>0</td>\n",
       "      <td>0</td>\n",
       "      <td>0</td>\n",
       "      <td>0</td>\n",
       "      <td>0</td>\n",
       "      <td>0</td>\n",
       "      <td>0</td>\n",
       "      <td>0</td>\n",
       "      <td>1</td>\n",
       "      <td>0</td>\n",
       "    </tr>\n",
       "    <tr>\n",
       "      <th>1</th>\n",
       "      <td>the fastest gun</td>\n",
       "      <td>poke-o-moonshine main face</td>\n",
       "      <td>Trad, 4 pitches, 500',  Grade III</td>\n",
       "      <td>adirondacks</td>\n",
       "      <td>new york</td>\n",
       "      <td>As stated by Don Mellor in his comprehensive g...</td>\n",
       "      <td>49</td>\n",
       "      <td>5.10c</td>\n",
       "      <td>A full rack with doubles in the mid-size range...</td>\n",
       "      <td>http://mountainproject.com/v/the-fastest-gun/1...</td>\n",
       "      <td>...</td>\n",
       "      <td>0</td>\n",
       "      <td>0</td>\n",
       "      <td>1</td>\n",
       "      <td>0</td>\n",
       "      <td>0</td>\n",
       "      <td>0</td>\n",
       "      <td>0</td>\n",
       "      <td>0</td>\n",
       "      <td>0</td>\n",
       "      <td>1</td>\n",
       "    </tr>\n",
       "    <tr>\n",
       "      <th>2</th>\n",
       "      <td>modern times</td>\n",
       "      <td>the arrow wall - cck</td>\n",
       "      <td>Trad, 2 pitches, 250'</td>\n",
       "      <td>the gunks</td>\n",
       "      <td>new york</td>\n",
       "      <td>Modern Times pulls a pretty wild roof on the s...</td>\n",
       "      <td>184</td>\n",
       "      <td>5.9+</td>\n",
       "      <td>Standard Rack.</td>\n",
       "      <td>http://mountainproject.com/v/modern-times/1057...</td>\n",
       "      <td>...</td>\n",
       "      <td>0</td>\n",
       "      <td>0</td>\n",
       "      <td>0</td>\n",
       "      <td>0</td>\n",
       "      <td>0</td>\n",
       "      <td>0</td>\n",
       "      <td>0</td>\n",
       "      <td>0</td>\n",
       "      <td>1</td>\n",
       "      <td>0</td>\n",
       "    </tr>\n",
       "    <tr>\n",
       "      <th>3</th>\n",
       "      <td>ants' line</td>\n",
       "      <td>high e</td>\n",
       "      <td>Trad, 1 pitch, 80'</td>\n",
       "      <td>the gunks</td>\n",
       "      <td>new york</td>\n",
       "      <td>A great line with good protection within safe ...</td>\n",
       "      <td>281</td>\n",
       "      <td>5.9</td>\n",
       "      <td>A standard light rack of nuts and cams to 3\".</td>\n",
       "      <td>http://mountainproject.com/v/ants-line/105803260</td>\n",
       "      <td>...</td>\n",
       "      <td>0</td>\n",
       "      <td>0</td>\n",
       "      <td>1</td>\n",
       "      <td>1</td>\n",
       "      <td>0</td>\n",
       "      <td>0</td>\n",
       "      <td>0</td>\n",
       "      <td>0</td>\n",
       "      <td>0</td>\n",
       "      <td>0</td>\n",
       "    </tr>\n",
       "    <tr>\n",
       "      <th>4</th>\n",
       "      <td>directissima</td>\n",
       "      <td>high e</td>\n",
       "      <td>Trad, 2 pitches, 120'</td>\n",
       "      <td>the gunks</td>\n",
       "      <td>new york</td>\n",
       "      <td>Directissima is most commonly (if not always) ...</td>\n",
       "      <td>216</td>\n",
       "      <td>5.9+</td>\n",
       "      <td>Standard Rack, many fixed pins on the climb.</td>\n",
       "      <td>http://mountainproject.com/v/directissima/1057...</td>\n",
       "      <td>...</td>\n",
       "      <td>0</td>\n",
       "      <td>0</td>\n",
       "      <td>0</td>\n",
       "      <td>0</td>\n",
       "      <td>0</td>\n",
       "      <td>0</td>\n",
       "      <td>0</td>\n",
       "      <td>0</td>\n",
       "      <td>1</td>\n",
       "      <td>1</td>\n",
       "    </tr>\n",
       "  </tbody>\n",
       "</table>\n",
       "<p>5 rows × 81 columns</p>\n",
       "</div>"
      ],
      "text/plain": [
       "              name                                  area  \\\n",
       "0               mf  the mac wall (something interesting)   \n",
       "1  the fastest gun            poke-o-moonshine main face   \n",
       "2     modern times                  the arrow wall - cck   \n",
       "3       ants' line                                high e   \n",
       "4     directissima                                high e   \n",
       "\n",
       "                          climb_info         crag    region  \\\n",
       "0              Trad, 2 pitches, 180'    the gunks  new york   \n",
       "1  Trad, 4 pitches, 500',  Grade III  adirondacks  new york   \n",
       "2              Trad, 2 pitches, 250'    the gunks  new york   \n",
       "3                 Trad, 1 pitch, 80'    the gunks  new york   \n",
       "4              Trad, 2 pitches, 120'    the gunks  new york   \n",
       "\n",
       "                                         description  number_of_votes  grade  \\\n",
       "0  This is THE standard for 5.9 routes at the Gun...              178    5.9   \n",
       "1  As stated by Don Mellor in his comprehensive g...               49  5.10c   \n",
       "2  Modern Times pulls a pretty wild roof on the s...              184   5.9+   \n",
       "3  A great line with good protection within safe ...              281    5.9   \n",
       "4  Directissima is most commonly (if not always) ...              216   5.9+   \n",
       "\n",
       "                                          protection  \\\n",
       "0                                        Gear to 3\".   \n",
       "1  A full rack with doubles in the mid-size range...   \n",
       "2                                     Standard Rack.   \n",
       "3      A standard light rack of nuts and cams to 3\".   \n",
       "4       Standard Rack, many fixed pins on the climb.   \n",
       "\n",
       "                                                 url    ...     sloper  solid  \\\n",
       "0          http://mountainproject.com/v/mf/105799143    ...          0      0   \n",
       "1  http://mountainproject.com/v/the-fastest-gun/1...    ...          0      0   \n",
       "2  http://mountainproject.com/v/modern-times/1057...    ...          0      0   \n",
       "3   http://mountainproject.com/v/ants-line/105803260    ...          0      0   \n",
       "4  http://mountainproject.com/v/directissima/1057...    ...          0      0   \n",
       "\n",
       "  stance steep stemming sustained technical tower traverse undercling  \n",
       "0      0     0        0         0         0     0        1          0  \n",
       "1      1     0        0         0         0     0        0          1  \n",
       "2      0     0        0         0         0     0        1          0  \n",
       "3      1     1        0         0         0     0        0          0  \n",
       "4      0     0        0         0         0     0        1          1  \n",
       "\n",
       "[5 rows x 81 columns]"
      ]
     },
     "execution_count": 324,
     "metadata": {},
     "output_type": "execute_result"
    }
   ],
   "source": []
  },
  {
   "cell_type": "code",
   "execution_count": null,
   "metadata": {
    "collapsed": true
   },
   "outputs": [],
   "source": []
  }
 ],
 "metadata": {
  "kernelspec": {
   "display_name": "Python 2",
   "language": "python",
   "name": "python2"
  },
  "language_info": {
   "codemirror_mode": {
    "name": "ipython",
    "version": 2
   },
   "file_extension": ".py",
   "mimetype": "text/x-python",
   "name": "python",
   "nbconvert_exporter": "python",
   "pygments_lexer": "ipython2",
   "version": "2.7.10"
  }
 },
 "nbformat": 4,
 "nbformat_minor": 0
}
